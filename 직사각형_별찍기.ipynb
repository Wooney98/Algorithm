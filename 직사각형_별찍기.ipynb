{
  "nbformat": 4,
  "nbformat_minor": 0,
  "metadata": {
    "colab": {
      "name": "직사각형 별찍기.ipynb",
      "provenance": [],
      "collapsed_sections": [],
      "authorship_tag": "ABX9TyPmdHZ9RwwdB1xk31lOfAEb",
      "include_colab_link": true
    },
    "kernelspec": {
      "name": "python3",
      "display_name": "Python 3"
    },
    "language_info": {
      "name": "python"
    }
  },
  "cells": [
    {
      "cell_type": "markdown",
      "metadata": {
        "id": "view-in-github",
        "colab_type": "text"
      },
      "source": [
        "<a href=\"https://colab.research.google.com/github/Wooney98/Algorithm/blob/main/%EC%A7%81%EC%82%AC%EA%B0%81%ED%98%95_%EB%B3%84%EC%B0%8D%EA%B8%B0.ipynb\" target=\"_parent\"><img src=\"https://colab.research.google.com/assets/colab-badge.svg\" alt=\"Open In Colab\"/></a>"
      ]
    },
    {
      "cell_type": "markdown",
      "source": [
        "```\n",
        "[문제 설명]\n",
        "이 문제에는 표준 입력으로 두 개의 정수 n과 m이 주어집니다.\n",
        "별(*) 문자를 이용해 가로의 길이가 n, 세로의 길이가 m인 직사각형 형태를 출력해보세요.\n",
        "\n",
        "[예시]\n",
        "입력\n",
        "5 3\n",
        "\n",
        "출력\n",
        "*****\n",
        "*****\n",
        "*****\n",
        "```"
      ],
      "metadata": {
        "id": "KxLH2WQKHAli"
      }
    },
    {
      "cell_type": "code",
      "execution_count": null,
      "metadata": {
        "colab": {
          "base_uri": "https://localhost:8080/"
        },
        "id": "modUp_N3G8wC",
        "outputId": "c6e4031b-490e-426e-df81-2062d47f4f66"
      },
      "outputs": [
        {
          "output_type": "stream",
          "name": "stdout",
          "text": [
            "5 3\n",
            "*****\n",
            "*****\n",
            "*****\n"
          ]
        }
      ],
      "source": [
        "a, b = map(int, input().strip().split(' '))\n",
        "\n",
        "for i in range(b):\n",
        "    for j in range(a):\n",
        "        print('*', end=\"\")\n",
        "        \n",
        "    print()"
      ]
    },
    {
      "cell_type": "code",
      "source": [
        "# 다른분들의 구현법\n",
        "\n",
        "a, b = map(int, input().strip().split(' '))  \n",
        "answer = ('*'*a +'\\n')*b  # 너무 깔끔하다..\n",
        "print(answer)"
      ],
      "metadata": {
        "colab": {
          "base_uri": "https://localhost:8080/"
        },
        "id": "7o6OMvCIH29y",
        "outputId": "f6e4f38a-a732-48df-d9c5-2dfbec4da6f0"
      },
      "execution_count": null,
      "outputs": [
        {
          "output_type": "stream",
          "name": "stdout",
          "text": [
            "5 3\n",
            "*****\n",
            "*****\n",
            "*****\n",
            "\n"
          ]
        }
      ]
    }
  ]
}