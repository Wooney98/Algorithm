{
  "nbformat": 4,
  "nbformat_minor": 0,
  "metadata": {
    "colab": {
      "provenance": [],
      "authorship_tag": "ABX9TyMXL4IfgIKu0sa9mtomg9lk"
    },
    "kernelspec": {
      "name": "python3",
      "display_name": "Python 3"
    },
    "language_info": {
      "name": "python"
    }
  },
  "cells": [
    {
      "cell_type": "markdown",
      "source": [
        "```\n",
        "문제 설명\n",
        "array의 각 element 중 divisor로 나누어 떨어지는 값을 오름차순으로 정렬한 배열을 반환하는 함수, solution을 작성해주세요.\n",
        "divisor로 나누어 떨어지는 element가 하나도 없다면 배열에 -1을 담아 반환하세요.\n",
        "```\n",
        "![image.png](data:image/png;base64,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)"
      ],
      "metadata": {
        "id": "4Fsww38iqDIS"
      }
    },
    {
      "cell_type": "code",
      "execution_count": 8,
      "metadata": {
        "id": "IUBY0FetqCTy"
      },
      "outputs": [],
      "source": [
        "def solution(arr, divisor):\n",
        "    answer = []\n",
        "    arr.sort()\n",
        "\n",
        "    for i in arr:\n",
        "        if i%divisor==0:\n",
        "            answer.append(i)\n",
        "    \n",
        "    if len(answer) == 0:\n",
        "        answer.append(-1)\n",
        "    return answer"
      ]
    },
    {
      "cell_type": "code",
      "source": [
        "solution([5,9,7,10],5)"
      ],
      "metadata": {
        "colab": {
          "base_uri": "https://localhost:8080/"
        },
        "id": "bULA-UreqPug",
        "outputId": "a78eb1c8-b4e0-42b5-f0e1-a5fc12ef77c8"
      },
      "execution_count": 9,
      "outputs": [
        {
          "output_type": "execute_result",
          "data": {
            "text/plain": [
              "[5, 10]"
            ]
          },
          "metadata": {},
          "execution_count": 9
        }
      ]
    },
    {
      "cell_type": "code",
      "source": [
        "solution([2,36,1,3],1)"
      ],
      "metadata": {
        "colab": {
          "base_uri": "https://localhost:8080/"
        },
        "id": "e1l2DqmgqPq_",
        "outputId": "197686cd-b506-46f1-acbd-f50527fc2d96"
      },
      "execution_count": 10,
      "outputs": [
        {
          "output_type": "execute_result",
          "data": {
            "text/plain": [
              "[1, 2, 3, 36]"
            ]
          },
          "metadata": {},
          "execution_count": 10
        }
      ]
    },
    {
      "cell_type": "code",
      "source": [
        "solution([3,2,6],10)"
      ],
      "metadata": {
        "colab": {
          "base_uri": "https://localhost:8080/"
        },
        "id": "gYaOufUzqPn2",
        "outputId": "5129a910-33d0-44ad-f173-d495f750877f"
      },
      "execution_count": 11,
      "outputs": [
        {
          "output_type": "execute_result",
          "data": {
            "text/plain": [
              "[-1]"
            ]
          },
          "metadata": {},
          "execution_count": 11
        }
      ]
    },
    {
      "cell_type": "code",
      "source": [],
      "metadata": {
        "id": "OM5J9S9m2Adv"
      },
      "execution_count": null,
      "outputs": []
    }
  ]
}