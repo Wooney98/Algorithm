{
  "nbformat": 4,
  "nbformat_minor": 0,
  "metadata": {
    "colab": {
      "provenance": [],
      "collapsed_sections": [],
      "authorship_tag": "ABX9TyPMkJgbDgCvbHG60avbW/3q"
    },
    "kernelspec": {
      "name": "python3",
      "display_name": "Python 3"
    },
    "language_info": {
      "name": "python"
    }
  },
  "cells": [
    {
      "cell_type": "markdown",
      "source": [
        "# 문제 설명\n",
        "프로그래머스 모바일은 개인정보 보호를 위해 고지서를 보낼 때 고객들의 전화번호의 일부를 가립니다.\n",
        "전화번호가 문자열 phone_number로 주어졌을 때, 전화번호의 뒷 4자리를 제외한 나머지 숫자를 전부 *으로 가린 문자열을 리턴하는 함수, solution을 완성해주세요.\n",
        "\n",
        "\n",
        "---\n",
        "# 입출력 예\n",
        "- phone_number\t\n",
        "    - \"01033334444\"\t\n",
        "- return\n",
        "    - \"*******4444\"\n"
      ],
      "metadata": {
        "id": "-lpilCsEmOyk"
      }
    },
    {
      "cell_type": "markdown",
      "source": [
        "```\n",
        "1) \"*\" 와 뒷 4자리를 제외한 나머지 숫자를 곱하는 결론이 나옴\n",
        "2) 뒷 4자리를 제외하도록 슬라이싱을 해야함\n",
        "3) (전체 길이) - 4를 하고 *을 곱하면 될듯?\n",
        "4) 추가로 나머지 4자리를 번호 그대로 출력해주기위해 슬라이싱 한번더 해야할듯?\n",
        "```"
      ],
      "metadata": {
        "id": "zKTRnU7fm30X"
      }
    },
    {
      "cell_type": "code",
      "source": [
        "def solution(n):\n",
        "    return '*'*(len(n)-4) + n[-4:]"
      ],
      "metadata": {
        "id": "tvfdEJcdmzqM"
      },
      "execution_count": 1,
      "outputs": []
    },
    {
      "cell_type": "code",
      "source": [
        "print(\"결과 : \" + solution('01033334444'));"
      ],
      "metadata": {
        "colab": {
          "base_uri": "https://localhost:8080/"
        },
        "id": "B-zc-OFgnliC",
        "outputId": "5c9cc67a-6087-4142-9245-21f33e8b6fd5"
      },
      "execution_count": 2,
      "outputs": [
        {
          "output_type": "stream",
          "name": "stdout",
          "text": [
            "결과 : *******4444\n"
          ]
        }
      ]
    }
  ]
}
