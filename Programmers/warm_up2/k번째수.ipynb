{
  "nbformat": 4,
  "nbformat_minor": 0,
  "metadata": {
    "colab": {
      "provenance": [],
      "authorship_tag": "ABX9TyNt/JhgrfwstbtBujOXCy2u"
    },
    "kernelspec": {
      "name": "python3",
      "display_name": "Python 3"
    },
    "language_info": {
      "name": "python"
    }
  },
  "cells": [
    {
      "cell_type": "code",
      "execution_count": 4,
      "metadata": {
        "colab": {
          "base_uri": "https://localhost:8080/"
        },
        "id": "HVC_6yw5ejeA",
        "outputId": "46ea08fd-a851-4ec6-8597-1caa1ced0e11"
      },
      "outputs": [
        {
          "output_type": "execute_result",
          "data": {
            "text/plain": [
              "[5, 6, 3]"
            ]
          },
          "metadata": {},
          "execution_count": 4
        }
      ],
      "source": [
        "def solution(array, commands):\n",
        "    answer = []\n",
        "    for i in commands:\n",
        "        lst = array[i[0]-1 : i[1]]\n",
        "        lst.sort()\n",
        "        answer.append(lst[i[2]-1])\n",
        "        \n",
        "    return answer\n",
        "solution([1, 5, 2, 6, 3, 7, 4],[[2, 5, 3], [4, 4, 1], [1, 7, 3]])"
      ]
    },
    {
      "cell_type": "code",
      "source": [],
      "metadata": {
        "id": "_NZ0HbPPe_xB"
      },
      "execution_count": null,
      "outputs": []
    }
  ]
}
