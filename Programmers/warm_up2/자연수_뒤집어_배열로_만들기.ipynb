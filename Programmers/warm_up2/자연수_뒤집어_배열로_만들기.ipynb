{
  "nbformat": 4,
  "nbformat_minor": 0,
  "metadata": {
    "colab": {
      "provenance": [],
      "collapsed_sections": [],
      "authorship_tag": "ABX9TyMtuS2A1NMC2Jltr8R5U2jk"
    },
    "kernelspec": {
      "name": "python3",
      "display_name": "Python 3"
    },
    "language_info": {
      "name": "python"
    }
  },
  "cells": [
    {
      "cell_type": "markdown",
      "source": [
        "# 문제 설명\n",
        "자연수 n을 뒤집어 각 자리 숫자를 원소로 가지는 배열 형태로 리턴해주세요. 예를들어 n이 12345이면 [5,4,3,2,1]을 리턴합니다.\n",
        "\n",
        "# 입출력 예\n",
        "- n = 12345\n",
        "- return = [5,4,3,2,1]"
      ],
      "metadata": {
        "id": "wpfeXTPNCDOj"
      }
    },
    {
      "cell_type": "code",
      "execution_count": 1,
      "metadata": {
        "id": "GkS-1ljTCAl6"
      },
      "outputs": [],
      "source": [
        "def solution(n):\n",
        "    lst = []\n",
        "    idx = reversed(str(n))\n",
        "    for i in idx:\n",
        "        lst.append(int(i))\n",
        "\n",
        "    return lst"
      ]
    },
    {
      "cell_type": "code",
      "source": [
        "n = 12345\n",
        "solution(n)"
      ],
      "metadata": {
        "colab": {
          "base_uri": "https://localhost:8080/"
        },
        "id": "u6nOyMZpCVjp",
        "outputId": "c6bd3f7a-e854-410c-833d-0ced34b57932"
      },
      "execution_count": 2,
      "outputs": [
        {
          "output_type": "execute_result",
          "data": {
            "text/plain": [
              "[5, 4, 3, 2, 1]"
            ]
          },
          "metadata": {},
          "execution_count": 2
        }
      ]
    },
    {
      "cell_type": "markdown",
      "source": [
        "# reverse 와 reversed의 차이"
      ],
      "metadata": {
        "id": "atVRiMQqCblG"
      }
    },
    {
      "cell_type": "markdown",
      "source": [
        "## reverse\n",
        "- list타입에서 제공하는 함수\n",
        "- 값을 반환하지 않고, 단순히 해당 list를 뒤섞어준다\n",
        "- `dict`, `tuple`,`str` 타입은 지원하지 않는다."
      ],
      "metadata": {
        "id": "CYj5oPbXCexT"
      }
    },
    {
      "cell_type": "markdown",
      "source": [
        "## reversed\n",
        "- 내장함수, list에서 제공하지 않는 함수\n",
        "- `tuple`,`str`타입에서 reverse와 다르게 객체를 반환해준다.\n",
        "- `dict`은 시퀀셜한 타입이 아니므로 지원하지 않는다."
      ],
      "metadata": {
        "id": "svfAdrhaCod_"
      }
    }
  ]
}
