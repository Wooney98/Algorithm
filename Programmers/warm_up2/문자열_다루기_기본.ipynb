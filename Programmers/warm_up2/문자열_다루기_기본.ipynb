{
  "nbformat": 4,
  "nbformat_minor": 0,
  "metadata": {
    "colab": {
      "provenance": [],
      "collapsed_sections": [],
      "authorship_tag": "ABX9TyPoffdV4wRYMqfrNdaPmNWr"
    },
    "kernelspec": {
      "name": "python3",
      "display_name": "Python 3"
    },
    "language_info": {
      "name": "python"
    }
  },
  "cells": [
    {
      "cell_type": "markdown",
      "source": [
        "#문제 설명\n",
        "문자열 s의 길이가 4 혹은 6이고, 숫자로만 구성돼있는지 확인해주는 함수, solution을 완성하세요. 예를 들어 s가 \"a234\"이면 False를 리턴하고 \"1234\"라면 True를 리턴하면 됩니다.\n",
        "\n",
        "#제한 사항\n",
        "s는 길이 1 이상, 길이 8 이하인 문자열입니다.\n",
        "s는 영문 알파벳 대소문자 또는 0부터 9까지 숫자로 이루어져 있습니다."
      ],
      "metadata": {
        "id": "-eXL7yCX71Uz"
      }
    },
    {
      "cell_type": "code",
      "execution_count": null,
      "metadata": {
        "id": "PgKoNMbC7qYF"
      },
      "outputs": [],
      "source": [
        "def solution(s):\n",
        "    if s.isdigit() and (len(s)==4 or len(s)==6):\n",
        "        return True\n",
        "    else:\n",
        "        return False"
      ]
    },
    {
      "cell_type": "markdown",
      "source": [
        "## 숫자 판별\n",
        "- isdecimal()\n",
        "    -  어떤 문자열이 int형으로 변환이 가능하면 True를 반환한다.\n",
        "- isdigit() --> 가장 흔히 사용됨!\n",
        "    - 어떤 문자열이 숫자의 형태면 True를 반환한다. (예: 3², ², ..)\n",
        "- isnumeric()\n",
        "    - 숫자값 표현에 해당하는 문자열이면 True를 반환한다. (예: 3², ², ½, ...)\n"
      ],
      "metadata": {
        "id": "2E6VLC2l8Dqe"
      }
    },
    {
      "cell_type": "markdown",
      "source": [
        "## 문자열 판별\n",
        "- isalpha()\n",
        "    - 주어진 문자열이 알파벳으로만 구성되어 있는지 판별한다. 공백이 있으면 False를 반환한다."
      ],
      "metadata": {
        "id": "pI0pvQ208WtT"
      }
    },
    {
      "cell_type": "markdown",
      "source": [
        "## 숫자+문자열 판별\n",
        "- isalnum()\n",
        "    - 알파벳+숫자로만 구성되어 있는지 판별한다. 알파벳이나 숫자 둘 중 하나로만 구성되어 있어도 True를 반환하고, 공백이 있으면 False를 반환한다."
      ],
      "metadata": {
        "id": "i1sJNgQz8dd-"
      }
    },
    {
      "cell_type": "markdown",
      "source": [
        "- 해설 참고 : https://cotak.tistory.com/137"
      ],
      "metadata": {
        "id": "w_uRzwOb8Bi4"
      }
    }
  ]
}
