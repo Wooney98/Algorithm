{
  "nbformat": 4,
  "nbformat_minor": 0,
  "metadata": {
    "colab": {
      "name": "행렬의 덧셈.ipynb",
      "provenance": [],
      "collapsed_sections": [],
      "authorship_tag": "ABX9TyPMd6e1+5GSCo8ZPj5EUOUW",
      "include_colab_link": true
    },
    "kernelspec": {
      "name": "python3",
      "display_name": "Python 3"
    },
    "language_info": {
      "name": "python"
    }
  },
  "cells": [
    {
      "cell_type": "markdown",
      "metadata": {
        "id": "view-in-github",
        "colab_type": "text"
      },
      "source": [
        "<a href=\"https://colab.research.google.com/github/Wooney98/Algorithm/blob/main/%ED%96%89%EB%A0%AC%EC%9D%98_%EB%8D%A7%EC%85%88.ipynb\" target=\"_parent\"><img src=\"https://colab.research.google.com/assets/colab-badge.svg\" alt=\"Open In Colab\"/></a>"
      ]
    },
    {
      "cell_type": "markdown",
      "source": [
        "```\n",
        "[문제 설명]\n",
        "행렬의 덧셈은 행과 열의 크기가 같은 두 행렬의 같은 행, 같은 열의 값을 서로 더한 결과가 됩니다. \n",
        "2개의 행렬 arr1과 arr2를 입력받아, 행렬 덧셈의 결과를 반환하는 함수, solution을 완성해주세요.\n",
        "\n",
        "입출력  예\n",
        "arr1\t         arr2\t         return\n",
        "[[1,2],[2,3]]\t[[3,4],[5,6]]\t[[4,6],[7,9]]\n",
        "[[1],[2]]\t    [[3],[4]]  \t  [[4],[6]]\n",
        "```"
      ],
      "metadata": {
        "id": "wxfdn6CwLHAM"
      }
    },
    {
      "cell_type": "code",
      "execution_count": null,
      "metadata": {
        "id": "65eLcZnNLFBa"
      },
      "outputs": [],
      "source": [
        "arr1 = [[1,2],[2,3]]\n",
        "arr2 = [[3,4],[5,6]]"
      ]
    },
    {
      "cell_type": "markdown",
      "source": [
        "- 이런 느낌으로다가 반복문을 통해 다시 list로 넣어주면 될듯?"
      ],
      "metadata": {
        "id": "YRHzEWf_N9BG"
      }
    },
    {
      "cell_type": "code",
      "source": [
        "print(arr1[0][0] + arr2[0][0])\n",
        "print(arr1[0][1] + arr2[0][1])\n",
        "print(arr1[1][0] + arr2[1][0])\n",
        "print(arr1[1][1] + arr2[1][1])"
      ],
      "metadata": {
        "colab": {
          "base_uri": "https://localhost:8080/"
        },
        "id": "N60aQVaHLpjL",
        "outputId": "670369fd-2db7-4791-c262-1ddafb528368"
      },
      "execution_count": null,
      "outputs": [
        {
          "output_type": "stream",
          "name": "stdout",
          "text": [
            "4\n",
            "6\n",
            "7\n",
            "9\n"
          ]
        }
      ]
    },
    {
      "cell_type": "markdown",
      "source": [
        "- 반복문"
      ],
      "metadata": {
        "id": "eCLHu-i-Ofg3"
      }
    },
    {
      "cell_type": "code",
      "source": [
        "answer = []\n",
        "\n",
        "for i in range(len(arr1)):\n",
        "    arr_sum = []\n",
        "    for j in range(len(arr1)):\n",
        "        arr_sum.append(arr1[i][j]+arr2[i][j])\n",
        "    answer.append(arr_sum)"
      ],
      "metadata": {
        "id": "qwymbo5ZLssr"
      },
      "execution_count": null,
      "outputs": []
    },
    {
      "cell_type": "code",
      "source": [
        "def solution(arr1, arr2):\n",
        "    answer = []\n",
        "\n",
        "    for i in range(len(arr1)):\n",
        "        arr_sum = []\n",
        "\n",
        "        for j in range(len(arr1[i])):\n",
        "            arr_sum.append(arr1[i][j] + arr2[i][j])\n",
        "        answer.append(arr_sum)\n",
        "\n",
        "    return answer\n",
        "\n",
        "arr1 = [[1,2],[2,3]]\n",
        "arr2 = [[3,4],[5,6]]\n",
        "\n",
        "solution(arr1,arr2)"
      ],
      "metadata": {
        "colab": {
          "base_uri": "https://localhost:8080/"
        },
        "id": "r_lzRRQlNylY",
        "outputId": "43ddce67-91a6-4bfd-ad3e-d13d4a2fd161"
      },
      "execution_count": null,
      "outputs": [
        {
          "output_type": "execute_result",
          "data": {
            "text/plain": [
              "[[4, 6], [7, 9]]"
            ]
          },
          "metadata": {},
          "execution_count": 17
        }
      ]
    }
  ]
}
