{
  "nbformat": 4,
  "nbformat_minor": 0,
  "metadata": {
    "colab": {
      "name": "가운데 글자 가져오기.ipynb",
      "provenance": [],
      "collapsed_sections": [],
      "authorship_tag": "ABX9TyN6SuhEJ5oB82Ioi0Ra9b+h",
      "include_colab_link": true
    },
    "kernelspec": {
      "name": "python3",
      "display_name": "Python 3"
    },
    "language_info": {
      "name": "python"
    }
  },
  "cells": [
    {
      "cell_type": "markdown",
      "metadata": {
        "id": "view-in-github",
        "colab_type": "text"
      },
      "source": [
        "<a href=\"https://colab.research.google.com/github/Wooney98/Algorithm/blob/main/%EA%B0%80%EC%9A%B4%EB%8D%B0_%EA%B8%80%EC%9E%90_%EA%B0%80%EC%A0%B8%EC%98%A4%EA%B8%B0.ipynb\" target=\"_parent\"><img src=\"https://colab.research.google.com/assets/colab-badge.svg\" alt=\"Open In Colab\"/></a>"
      ]
    },
    {
      "cell_type": "markdown",
      "source": [
        "```\n",
        "문제 설명\n",
        "단어 s의 가운데 글자를 반환하는 함수, solution을 만들어 보세요. 단어의 길이가 짝수라면 가운데 두글자를 반환하면 됩니다.\n",
        "\n",
        "\"abcde\" = \"c\"\n",
        "\"abce\" = \"bc\"\n",
        "```"
      ],
      "metadata": {
        "id": "GgUVCu-Aep7H"
      }
    },
    {
      "cell_type": "code",
      "execution_count": null,
      "metadata": {
        "id": "RQhvs7bcem4y"
      },
      "outputs": [],
      "source": [
        "def solution(s):\n",
        "    if len(s) % 2 ==1:        # 나머지가 1일때 = 홀수\n",
        "        return s[len(s)//2]   # 2를 나눈 인덱스 반환\n",
        "    else:\n",
        "        return s[(len(s)//2 - 1): (len(s)//2 + 1)]  \n",
        "\n",
        "# #짝수에서 출력하는 인덱스의 \n",
        "# -1값 == len(s)//2-1)과 \n",
        "# +1값 == (len(s)//2+1)을 함께 반환하자"
      ]
    },
    {
      "cell_type": "code",
      "source": [
        "s=\"abcd\"\n",
        "solution(s)"
      ],
      "metadata": {
        "id": "6SghNFmgfBxa",
        "colab": {
          "base_uri": "https://localhost:8080/",
          "height": 35
        },
        "outputId": "114d644b-12f5-4bce-b979-8b4d3d357020"
      },
      "execution_count": null,
      "outputs": [
        {
          "output_type": "execute_result",
          "data": {
            "text/plain": [
              "'bc'"
            ],
            "application/vnd.google.colaboratory.intrinsic+json": {
              "type": "string"
            }
          },
          "metadata": {},
          "execution_count": 7
        }
      ]
    },
    {
      "cell_type": "code",
      "source": [
        "s=\"qwert\"\n",
        "solution(s)"
      ],
      "metadata": {
        "colab": {
          "base_uri": "https://localhost:8080/",
          "height": 35
        },
        "id": "kbGrvupzmKf5",
        "outputId": "6f2c28f7-79ed-4d3f-b91a-17d313cbee95"
      },
      "execution_count": null,
      "outputs": [
        {
          "output_type": "execute_result",
          "data": {
            "text/plain": [
              "'e'"
            ],
            "application/vnd.google.colaboratory.intrinsic+json": {
              "type": "string"
            }
          },
          "metadata": {},
          "execution_count": 8
        }
      ]
    }
  ]
}
