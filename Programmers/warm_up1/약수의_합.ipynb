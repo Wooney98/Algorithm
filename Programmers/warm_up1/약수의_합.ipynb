{
  "nbformat": 4,
  "nbformat_minor": 0,
  "metadata": {
    "colab": {
      "name": "약수의 합.ipynb",
      "provenance": [],
      "collapsed_sections": [],
      "authorship_tag": "ABX9TyNjsnEadeqgr3FDV1VqUvBR",
      "include_colab_link": true
    },
    "kernelspec": {
      "name": "python3",
      "display_name": "Python 3"
    },
    "language_info": {
      "name": "python"
    }
  },
  "cells": [
    {
      "cell_type": "markdown",
      "metadata": {
        "id": "view-in-github",
        "colab_type": "text"
      },
      "source": [
        "<a href=\"https://colab.research.google.com/github/Wooney98/Algorithm/blob/main/%EC%95%BD%EC%88%98%EC%9D%98_%ED%95%A9.ipynb\" target=\"_parent\"><img src=\"https://colab.research.google.com/assets/colab-badge.svg\" alt=\"Open In Colab\"/></a>"
      ]
    },
    {
      "cell_type": "markdown",
      "source": [
        "```\n",
        "[문제]\n",
        "정수 n을 입력받아 n의 약수를 모두 더한 값을 리턴하는 함수, solution을 완성해주세요.\n",
        "\n",
        "\n",
        "입출력 예\n",
        "n\treturn\n",
        "12\t28\n",
        "5\t6\n",
        "\n",
        "입출력 예 #1\n",
        "12의 약수는 1, 2, 3, 4, 6, 12입니다. 이를 모두 더하면 28입니다.\n",
        "\n",
        "입출력 예 #2\n",
        "5의 약수는 1, 5입니다. 이를 모두 더하면 6입니다.\n",
        "```"
      ],
      "metadata": {
        "id": "P0RWcf99vTIv"
      }
    },
    {
      "cell_type": "code",
      "execution_count": null,
      "metadata": {
        "id": "pznTF5oPvNDT"
      },
      "outputs": [],
      "source": [
        "def solution(n):\n",
        "    sum = 0\n",
        "    \n",
        "    for i in range(1,n+1):      # 1부터 n까지 반복\n",
        "        if n % i == 0:          # 0으로 나누어지는 i가 약수\n",
        "            sum += i            # sum = sum + i\n",
        "    return sum"
      ]
    }
  ]
}
