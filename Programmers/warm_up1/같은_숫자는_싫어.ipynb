{
  "nbformat": 4,
  "nbformat_minor": 0,
  "metadata": {
    "colab": {
      "name": "같은 숫자는 싫어.ipynb",
      "provenance": [],
      "collapsed_sections": [],
      "authorship_tag": "ABX9TyOlRx8kAdcbyqbQt3fKyo/u",
      "include_colab_link": true
    },
    "kernelspec": {
      "name": "python3",
      "display_name": "Python 3"
    },
    "language_info": {
      "name": "python"
    }
  },
  "cells": [
    {
      "cell_type": "markdown",
      "metadata": {
        "id": "view-in-github",
        "colab_type": "text"
      },
      "source": [
        "<a href=\"https://colab.research.google.com/github/Wooney98/Algorithm/blob/main/%EA%B0%99%EC%9D%80_%EC%88%AB%EC%9E%90%EB%8A%94_%EC%8B%AB%EC%96%B4.ipynb\" target=\"_parent\"><img src=\"https://colab.research.google.com/assets/colab-badge.svg\" alt=\"Open In Colab\"/></a>"
      ]
    },
    {
      "cell_type": "markdown",
      "source": [
        "```\n",
        "문제 설명\n",
        "배열 arr가 주어집니다. 배열 arr의 각 원소는 숫자 0부터 9까지로 이루어져 있습니다. \n",
        "이때, 배열 arr에서 연속적으로 나타나는 숫자는 하나만 남기고 전부 제거하려고 합니다. \n",
        "단, 제거된 후 남은 수들을 반환할 때는 배열 arr의 원소들의 순서를 유지해야 합니다. \n",
        "\n",
        "예를 들면,\n",
        "arr = [1, 1, 3, 3, 0, 1, 1] 이면 [1, 3, 0, 1] 을 return 합니다.\n",
        "arr = [4, 4, 4, 3, 3] 이면 [4, 3] 을 return 합니다.\n",
        "배열 arr에서 연속적으로 나타나는 숫자는 제거하고 남은 수들을 return 하는 solution 함수를 완성해 주세요.\n",
        "\n",
        "입출력 예\n",
        "arr\t             answer\n",
        "[1,1,3,3,0,1,1]\t[1,3,0,1]\n",
        "[4,4,4,3,3]    \t[4,3]\n",
        "```"
      ],
      "metadata": {
        "id": "rdWWHud-3DMj"
      }
    },
    {
      "cell_type": "code",
      "execution_count": null,
      "metadata": {
        "colab": {
          "base_uri": "https://localhost:8080/"
        },
        "id": "yPWUZ49l3ByD",
        "outputId": "b3319905-50de-4a48-ec63-53f456194818"
      },
      "outputs": [
        {
          "output_type": "execute_result",
          "data": {
            "text/plain": [
              "[1, 3, 0, 1]"
            ]
          },
          "metadata": {},
          "execution_count": 7
        }
      ],
      "source": [
        "def solution(arr):\n",
        "    answer = [] \n",
        "    for i in range(len(arr)):            \n",
        "        \n",
        "        if i==0 :   # 첫 배열의 원소\n",
        "            answer.append(arr[i])   # 그대로 append\n",
        "            \n",
        "        elif i>=1:\n",
        "            if arr[i] != arr[i-1]:\n",
        "                answer.append(arr[i])\n",
        "    \n",
        "    return answer\n",
        "\n",
        "arr = [1,1,3,3,0,1,1]\n",
        "solution(arr)"
      ]
    }
  ]
}
