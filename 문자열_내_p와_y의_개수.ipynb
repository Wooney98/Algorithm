{
  "nbformat": 4,
  "nbformat_minor": 0,
  "metadata": {
    "colab": {
      "name": "문자열 내 p와 y의 개수.ipynb",
      "provenance": [],
      "collapsed_sections": [],
      "authorship_tag": "ABX9TyOxPg6hETRlOIwg9RbvtczG",
      "include_colab_link": true
    },
    "kernelspec": {
      "name": "python3",
      "display_name": "Python 3"
    },
    "language_info": {
      "name": "python"
    }
  },
  "cells": [
    {
      "cell_type": "markdown",
      "metadata": {
        "id": "view-in-github",
        "colab_type": "text"
      },
      "source": [
        "<a href=\"https://colab.research.google.com/github/Wooney98/Algorithm/blob/main/%EB%AC%B8%EC%9E%90%EC%97%B4_%EB%82%B4_p%EC%99%80_y%EC%9D%98_%EA%B0%9C%EC%88%98.ipynb\" target=\"_parent\"><img src=\"https://colab.research.google.com/assets/colab-badge.svg\" alt=\"Open In Colab\"/></a>"
      ]
    },
    {
      "cell_type": "markdown",
      "source": [
        "```\n",
        "[문제 설명]\n",
        "대문자와 소문자가 섞여있는 문자열 s가 주어집니다. \n",
        "s에 'p'의 개수와 'y'의 개수를 비교해 같으면 True, \n",
        "다르면 False를 return 하는 solution를 완성하세요. \n",
        "'p', 'y' 모두 하나도 없는 경우는 항상 True를 리턴합니다. \n",
        "단, 개수를 비교할 때 대문자와 소문자는 구별하지 않습니다.\n",
        "\n",
        "예를 들어 s가 \"pPoooyY\"면 true를 return하고 \"Pyy\"라면 false를 return합니다.\n",
        "\n",
        "[제한사항]\n",
        "문자열 s의 길이 : 50 이하의 자연수\n",
        "문자열 s는 알파벳으로만 이루어져 있습니다.\n",
        "\n",
        "입출력 예\n",
        "s\t        answer\n",
        "\"pPoooyY\"\ttrue\n",
        "\"Pyy\"\t     false\n",
        "```"
      ],
      "metadata": {
        "id": "rEmNd-SXxko9"
      }
    },
    {
      "cell_type": "code",
      "execution_count": null,
      "metadata": {
        "colab": {
          "base_uri": "https://localhost:8080/"
        },
        "id": "5H2rP39Kxg-z",
        "outputId": "a6704f92-d644-40df-c6cc-2f5dc6f0fc47"
      },
      "outputs": [
        {
          "output_type": "execute_result",
          "data": {
            "text/plain": [
              "True"
            ]
          },
          "metadata": {},
          "execution_count": 1
        }
      ],
      "source": [
        "def solution(s):\n",
        "    return s.lower().count('p') == s.lower().count('y')  # lower() = 문자열 소문자 만들기\n",
        "s = \"pPoooyY\"                                            # count() = 부분 문자열의 개수 세기\n",
        "solution(s)                                              #  ' == ' => 참/거짓 대입연산자"
      ]
    }
  ]
}