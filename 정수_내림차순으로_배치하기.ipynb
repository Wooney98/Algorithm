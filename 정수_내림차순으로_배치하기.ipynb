{
  "nbformat": 4,
  "nbformat_minor": 0,
  "metadata": {
    "colab": {
      "provenance": [],
      "collapsed_sections": [],
      "authorship_tag": "ABX9TyMWWC/dpPilFMsHfbyAfsCS"
    },
    "kernelspec": {
      "name": "python3",
      "display_name": "Python 3"
    },
    "language_info": {
      "name": "python"
    }
  },
  "cells": [
    {
      "cell_type": "markdown",
      "source": [
        "# 문제 설명\n",
        "함수 solution은 정수 n을 매개변수로 입력받습니다. n의 각 자릿수를 큰것부터 작은 순으로 정렬한 새로운 정수를 리턴해주세요. 예를들어 n이 118372면 873211을 리턴하면 됩니다.\n",
        "\n",
        "# 제한 조건\n",
        "n은 1이상 8000000000 이하인 자연수입니다."
      ],
      "metadata": {
        "id": "Aew_8qzS_-Tv"
      }
    },
    {
      "cell_type": "code",
      "execution_count": null,
      "metadata": {
        "id": "uJpJx49Z8taW"
      },
      "outputs": [],
      "source": [
        "def solution(n):\n",
        "    return int(''.join(sorted(str(n),reverse=True)))"
      ]
    },
    {
      "cell_type": "code",
      "source": [
        "n=118372\n",
        "solution(n)"
      ],
      "metadata": {
        "colab": {
          "base_uri": "https://localhost:8080/"
        },
        "id": "MB-H2XPc-ir8",
        "outputId": "b3b9ffd9-da40-49f8-a4e6-7d534679bd91"
      },
      "execution_count": null,
      "outputs": [
        {
          "output_type": "execute_result",
          "data": {
            "text/plain": [
              "873211"
            ]
          },
          "metadata": {},
          "execution_count": 12
        }
      ]
    },
    {
      "cell_type": "markdown",
      "source": [
        "- 정수 n을 str로 변환 -> list 형식으로 변환 \n",
        "- list n을 내림차순으로 정렬 sort()\n",
        "- list -> string으로 `\" \".join()` 변환해준 뒤 int로 바꿔서 return \n"
      ],
      "metadata": {
        "id": "IS7uzcuQAZzH"
      }
    },
    {
      "cell_type": "markdown",
      "source": [
        "# join()\n",
        "- ' '.join(리스트)\n",
        "- '구분자'.join(리스트)\n",
        "- join 함수는 매개변수로 들어온 리스트에 있는 요소 하나하나를 합쳐서 하나의 문자열로 바꾸어 반환하는 함수입니다.\n",
        "\n",
        "- 참조 : https://blockdmask.tistory.com/468"
      ],
      "metadata": {
        "id": "9ZsB85mWAppc"
      }
    },
    {
      "cell_type": "code",
      "source": [],
      "metadata": {
        "id": "_iCT4q_X-n6R"
      },
      "execution_count": null,
      "outputs": []
    }
  ]
}