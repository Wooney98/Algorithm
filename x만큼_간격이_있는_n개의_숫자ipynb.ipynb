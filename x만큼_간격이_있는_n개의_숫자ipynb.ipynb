{
  "nbformat": 4,
  "nbformat_minor": 0,
  "metadata": {
    "colab": {
      "name": "x만큼 간격이 있는 n개의 숫자ipynb",
      "provenance": [],
      "collapsed_sections": [],
      "authorship_tag": "ABX9TyNQKBTRgMVtmhlhaamJ/3W3",
      "include_colab_link": true
    },
    "kernelspec": {
      "name": "python3",
      "display_name": "Python 3"
    },
    "language_info": {
      "name": "python"
    }
  },
  "cells": [
    {
      "cell_type": "markdown",
      "metadata": {
        "id": "view-in-github",
        "colab_type": "text"
      },
      "source": [
        "<a href=\"https://colab.research.google.com/github/Wooney98/Algorithm/blob/main/x%EB%A7%8C%ED%81%BC_%EA%B0%84%EA%B2%A9%EC%9D%B4_%EC%9E%88%EB%8A%94_n%EA%B0%9C%EC%9D%98_%EC%88%AB%EC%9E%90ipynb.ipynb\" target=\"_parent\"><img src=\"https://colab.research.google.com/assets/colab-badge.svg\" alt=\"Open In Colab\"/></a>"
      ]
    },
    {
      "cell_type": "markdown",
      "source": [
        "```\n",
        "함수 solution은 정수 x와 자연수 n을 입력 받아, \n",
        "x부터 시작해 x씩 증가하는 숫자를 n개 지니는 리스트를 리턴해야 합니다. \n",
        "다음 제한 조건을 보고, 조건을 만족하는 함수, solution을 완성해주세요.\n",
        "```\n",
        "```python\n",
        "입출력 예\n",
        "x\tn\tanswer\n",
        "2\t5\t[2,4,6,8,10]\n",
        "4\t3\t[4,8,12]\n",
        "-4\t2\t[-4, -8]\n",
        "```"
      ],
      "metadata": {
        "id": "5TPZbCvZu3ar"
      }
    },
    {
      "cell_type": "code",
      "execution_count": null,
      "metadata": {
        "id": "p3h3blnVut5u"
      },
      "outputs": [],
      "source": [
        "def solution(x, n): \n",
        "    return [x*i for i in range(1, n+1)]\n",
        "\n",
        "solution(2,5)"
      ]
    }
  ]
}