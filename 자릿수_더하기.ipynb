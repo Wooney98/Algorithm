{
  "nbformat": 4,
  "nbformat_minor": 0,
  "metadata": {
    "colab": {
      "name": "자릿수 더하기.ipynb",
      "provenance": [],
      "collapsed_sections": [],
      "authorship_tag": "ABX9TyPcwbro20S//iZGPAil672l",
      "include_colab_link": true
    },
    "kernelspec": {
      "name": "python3",
      "display_name": "Python 3"
    },
    "language_info": {
      "name": "python"
    }
  },
  "cells": [
    {
      "cell_type": "markdown",
      "metadata": {
        "id": "view-in-github",
        "colab_type": "text"
      },
      "source": [
        "<a href=\"https://colab.research.google.com/github/Wooney98/Algorithm/blob/main/%EC%9E%90%EB%A6%BF%EC%88%98_%EB%8D%94%ED%95%98%EA%B8%B0.ipynb\" target=\"_parent\"><img src=\"https://colab.research.google.com/assets/colab-badge.svg\" alt=\"Open In Colab\"/></a>"
      ]
    },
    {
      "cell_type": "markdown",
      "source": [
        "```\n",
        "[문제 설명]\n",
        "자연수 N이 주어지면, N의 각 자릿수의 합을 구해서 return 하는 solution 함수를 만들어 주세요.\n",
        "예를들어 N = 123이면 1 + 2 + 3 = 6을 return 하면 됩니다.\n",
        "\n",
        "입출력 예\n",
        "N\t  answer\n",
        "123\t6\n",
        "987\t24\n",
        "```"
      ],
      "metadata": {
        "id": "qoi93CuB64xh"
      }
    },
    {
      "cell_type": "code",
      "execution_count": null,
      "metadata": {
        "colab": {
          "base_uri": "https://localhost:8080/"
        },
        "id": "EO-HwnmK64Vj",
        "outputId": "fde23e6e-8a2a-48b9-eee0-29cc4f3a169e"
      },
      "outputs": [
        {
          "output_type": "execute_result",
          "data": {
            "text/plain": [
              "24"
            ]
          },
          "metadata": {},
          "execution_count": 8
        }
      ],
      "source": [
        "def solution(n):\n",
        "    answer = 0\n",
        "    \n",
        "    for i in str(n): \n",
        "        answer += int(i)\n",
        "    \n",
        "    return answer\n",
        "\n",
        "n = 987\n",
        "solution(n)"
      ]
    },
    {
      "cell_type": "markdown",
      "source": [
        "- 다른분들의 풀이"
      ],
      "metadata": {
        "id": "ThmuDPfp-NZ0"
      }
    },
    {
      "cell_type": "code",
      "source": [
        "def sum_digit(number):\n",
        "    if number < 10:   # 10보다 작을때\n",
        "        return number;  \n",
        "    return (number % 10) + sum_digit(number // 10) # number = 11, (나머지 1) + (몫 1)\n",
        "    # ☆함수 정의 안에서 다시 함수 호출을 함☆ = '재귀함수'"
      ],
      "metadata": {
        "id": "KGGYKm0Q-PoS"
      },
      "execution_count": null,
      "outputs": []
    },
    {
      "cell_type": "markdown",
      "source": [
        "# 재귀함수"
      ],
      "metadata": {
        "id": "7LhKJP06_AIT"
      }
    },
    {
      "cell_type": "markdown",
      "source": [
        "##기본 모양\n",
        "- 재귀 함수란 호출한 함수 안에서 그 함수를 다시 호출(recursive call)함으로 반복하는 것을 의미한다.\n",
        "- 쉽게 말하면 def를 통해 함수를 만든다. 그리고 만든 함수 안에서 다시 그 함수를 호출하는 것을 의미한다."
      ],
      "metadata": {
        "id": "aiFrGXkj_D53"
      }
    },
    {
      "cell_type": "code",
      "source": [
        "def recursive_call(x):\n",
        "    print(x)\n",
        "    recursive_call(x+1)\n",
        "    \n",
        "recursive_call(1) # 1 2 3 4 .... 998 999 ..."
      ],
      "metadata": {
        "id": "EJTiKdEw_Qio"
      },
      "execution_count": null,
      "outputs": []
    },
    {
      "cell_type": "markdown",
      "source": [
        "## 기본형\n",
        "- 호출 단계 k과 최종 단계 n를 포함한 2개의 인자로 만드는 것이다. 호출이 일어나는 순서울 살펴보자."
      ],
      "metadata": {
        "id": "RepdyGMS_k8c"
      }
    },
    {
      "cell_type": "code",
      "source": [
        "def function(k,n):\n",
        "    if n == k:\n",
        "        return\n",
        "    else:\n",
        "        function(k+1, n)\n",
        "\n",
        "function(0,2)"
      ],
      "metadata": {
        "id": "ygGME0J9_to3"
      },
      "execution_count": null,
      "outputs": []
    },
    {
      "cell_type": "markdown",
      "source": [
        "```\n",
        "function(0,2)를 호출하면 (메모리 영역이 구분되고 변수가 만들어진다.)\n",
        "\n",
        "=> function(1, 2)를 호출하고 (메모리 영역이 구분되고 변수가 만들어진다.)\n",
        "\n",
        "=> function(2, 2)가 되면 리턴한다. (메모리 영역이 구분되고 변수가 만들어진다.)\n",
        "\n",
        "=> function(1, 2)로 돌아가서 없어진다.\n",
        "\n",
        "=> function(0, 2)로 돌아가서 없어진다.\n",
        "```"
      ],
      "metadata": {
        "id": "RdEJLe-t_5b0"
      }
    },
    {
      "cell_type": "markdown",
      "source": [
        "## 배열의 각 원소를 재귀 함수로 접근하기\n",
        "- 1,2,3 이 저장되어 있는 배열 A가 있다. A = [1, 2, 3]라는 배열에서 n인덱스를 선택하는 코드를 재귀로 작성해 보자."
      ],
      "metadata": {
        "id": "qYR9FMGvBJhH"
      }
    },
    {
      "cell_type": "code",
      "source": [
        "#k : 현재 호출에서 접근할 원소의 인덱스\n",
        "#n : 배열의 크기\n",
        "\n",
        "A = [1, 2, 3]\n",
        "def f(n,k):\n",
        "    if n==k:\n",
        "        print(A[k])\n",
        "    else:\n",
        "        f(n,k+1)\n",
        "\n",
        "# 0부터 탐색하여 인덱스 2의 원소 print하기\n",
        "\n",
        "f(2, 0)"
      ],
      "metadata": {
        "colab": {
          "base_uri": "https://localhost:8080/"
        },
        "id": "KHr4VWrp_va4",
        "outputId": "070fd49a-b022-43e1-f14e-9a9cb2de3283"
      },
      "execution_count": null,
      "outputs": [
        {
          "output_type": "stream",
          "name": "stdout",
          "text": [
            "3\n"
          ]
        }
      ]
    }
  ]
}