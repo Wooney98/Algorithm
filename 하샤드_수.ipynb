{
  "nbformat": 4,
  "nbformat_minor": 0,
  "metadata": {
    "colab": {
      "provenance": [],
      "authorship_tag": "ABX9TyMN/e94w2bckiSG+sebiidu"
    },
    "kernelspec": {
      "name": "python3",
      "display_name": "Python 3"
    },
    "language_info": {
      "name": "python"
    }
  },
  "cells": [
    {
      "cell_type": "markdown",
      "source": [
        "```\n",
        "양의 정수 x가 하샤드 수이려면 x의 자릿수의 합으로 x가 나누어져야 합니다. \n",
        "예를 들어 18의 자릿수 합은 1+8=9이고, 18은 9로 나누어 떨어지므로 18은 하샤드 수입니다. \n",
        "자연수 x를 입력받아 x가 하샤드 수인지 아닌지 검사하는 함수, solution을 완성해주세요.\n",
        "```\n",
        "![image.png](data:image/png;base64,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)"
      ],
      "metadata": {
        "id": "0srxZwoIlXkl"
      }
    },
    {
      "cell_type": "code",
      "execution_count": 11,
      "metadata": {
        "colab": {
          "base_uri": "https://localhost:8080/"
        },
        "id": "vRIBdZk_lJyP",
        "outputId": "ec489851-ffac-4c81-cd5a-0c45e5678543"
      },
      "outputs": [
        {
          "output_type": "execute_result",
          "data": {
            "text/plain": [
              "False"
            ]
          },
          "metadata": {},
          "execution_count": 11
        }
      ],
      "source": [
        "def solution(x):\n",
        "    answer = True\n",
        "    lst = list(str(x))\n",
        "    sum = 0\n",
        "    for i in range(len(lst)):\n",
        "     sum += int(lst[i])\n",
        "    if x % sum == 0:\n",
        "        answer = True\n",
        "    else:\n",
        "        answer = False\n",
        "\n",
        "    return answer\n",
        "\n",
        "solution(13)"
      ]
    },
    {
      "cell_type": "markdown",
      "source": [
        "# 자릿수를 분리하는 방법"
      ],
      "metadata": {
        "id": "CtuN1JQ5nPSX"
      }
    },
    {
      "cell_type": "markdown",
      "source": [
        "- 1. 문자열로 변환 후, 분리하는 방법\n",
        "```python\n",
        "a = []\n",
        "for i in str(number):\n",
        "    a.append(i)\n",
        "```\n"
      ],
      "metadata": {
        "id": "91cxKyoxnRyf"
      }
    },
    {
      "cell_type": "markdown",
      "source": [
        "- 2. 10으로 나누어 자릿수 분리하기(10으로 나누기때문에, 1의 자리부터 분리)\n",
        "```python\n",
        "a = []\n",
        "while(number!=0):\n",
        "    a.append(number%10)\n",
        "    x = x//10\n",
        "```"
      ],
      "metadata": {
        "id": "1T-89HY3pIil"
      }
    },
    {
      "cell_type": "markdown",
      "source": [
        "- 3. map 함수를 활용하여 원소값 더하기\n",
        "```python\n",
        "sum(map(int, str(number))\n",
        "```"
      ],
      "metadata": {
        "id": "tETbMFLhpMvK"
      }
    }
  ]
}