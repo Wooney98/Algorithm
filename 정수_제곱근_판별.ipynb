{
  "nbformat": 4,
  "nbformat_minor": 0,
  "metadata": {
    "colab": {
      "name": "정수 제곱근 판별.ipynb",
      "provenance": [],
      "collapsed_sections": [],
      "authorship_tag": "ABX9TyN/r9md+8d9LY7g3AAbECtm",
      "include_colab_link": true
    },
    "kernelspec": {
      "name": "python3",
      "display_name": "Python 3"
    },
    "language_info": {
      "name": "python"
    }
  },
  "cells": [
    {
      "cell_type": "markdown",
      "metadata": {
        "id": "view-in-github",
        "colab_type": "text"
      },
      "source": [
        "<a href=\"https://colab.research.google.com/github/Wooney98/Algorithm/blob/main/%EC%A0%95%EC%88%98_%EC%A0%9C%EA%B3%B1%EA%B7%BC_%ED%8C%90%EB%B3%84.ipynb\" target=\"_parent\"><img src=\"https://colab.research.google.com/assets/colab-badge.svg\" alt=\"Open In Colab\"/></a>"
      ]
    },
    {
      "cell_type": "markdown",
      "source": [
        "```\n",
        "[문제 설명]\n",
        "임의의 양의 정수 n에 대해, n이 어떤 양의 정수 x의 제곱인지 아닌지 판단하려 합니다.\n",
        "n이 양의 정수 x의 제곱이라면 x+1의 제곱을 리턴하고,\n",
        "n이 양의 정수 x의 제곱이 아니라면 -1을 리턴하는 함수를 완성하세요.\n",
        "\n",
        "입출력 예\n",
        "n\t  return\n",
        "121\t144\n",
        "3\t  -1\n",
        "\n",
        "입출력 예#1\n",
        "121은 양의 정수 11의 제곱이므로, (11+1)를 제곱한 144를 리턴합니다.\n",
        "\n",
        "입출력 예#2\n",
        "3은 양의 정수의 제곱이 아니므로, -1을 리턴합니다.\n",
        "```"
      ],
      "metadata": {
        "id": "5TF9XSpoKFWF"
      }
    },
    {
      "cell_type": "code",
      "execution_count": null,
      "metadata": {
        "id": "j22Kdza1KCU2"
      },
      "outputs": [],
      "source": [
        "def solution(n):\n",
        "    answer = 0\n",
        "    n = n**0.5 # 제곱근 역연산\n",
        "\n",
        "    # 처음에 푼 흔적 ㅋㅋ\n",
        "    # for i in n:\n",
        "    #     if i*i > n:\n",
        "    #         break\n",
        "    #     elif i*i == n:\n",
        "    #         return(i+1)(i+1)\n",
        "    # return -1\n",
        "\n",
        "    if n % 1 == 0:\n",
        "        answer = (n+1)**2\n",
        "    else:\n",
        "        answer = -1\n",
        "    return answer"
      ]
    },
    {
      "cell_type": "code",
      "source": [
        "n=121\n",
        "solution(n)"
      ],
      "metadata": {
        "id": "YwIYzUWLN0Rw",
        "colab": {
          "base_uri": "https://localhost:8080/"
        },
        "outputId": "c895bc73-01c3-425d-dee3-c59eb2f63bee"
      },
      "execution_count": null,
      "outputs": [
        {
          "output_type": "execute_result",
          "data": {
            "text/plain": [
              "144.0"
            ]
          },
          "metadata": {},
          "execution_count": 9
        }
      ]
    },
    {
      "cell_type": "markdown",
      "source": [
        "- 중요한 부분\n",
        "    - 양의 정수를 판별하는 수학적 사고!"
      ],
      "metadata": {
        "id": "5SXr1VA4sFXh"
      }
    },
    {
      "cell_type": "code",
      "source": [
        "if n % 1 == 0: # 1로 나눈 나머지 값이 0일 때 양의 정수이다."
      ],
      "metadata": {
        "id": "sKMY-OE-qH2c"
      },
      "execution_count": null,
      "outputs": []
    },
    {
      "cell_type": "code",
      "source": [
        "if n == int(n): # 도 가능"
      ],
      "metadata": {
        "id": "8W9t90fGspYh"
      },
      "execution_count": null,
      "outputs": []
    },
    {
      "cell_type": "markdown",
      "source": [
        "```\n",
        "제곱하기 전인 원래의 수(n)를 기준으로\n",
        "그 원래의 수가 양의 정수일 때, (n+1)**2을 하고,\n",
        "아니면 -1을 리턴한다.\n",
        "\n",
        "즉 제곱된 수를 n이라 했을 때,\n",
        "num = n**0.5 (역연산)으로 변수를 지정하면된다.\n",
        "```"
      ],
      "metadata": {
        "id": "x7K4-yRasymB"
      }
    }
  ]
}